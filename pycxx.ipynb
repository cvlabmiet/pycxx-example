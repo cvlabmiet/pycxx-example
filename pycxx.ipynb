{
 "cells": [
  {
   "cell_type": "markdown",
   "metadata": {
    "id": "4NEu7o7jNTvS"
   },
   "source": [
    "# Использование C++ в python\n",
    "\n",
    "С помощью модуля `ctypes` возможно подгружать символы из динамической C-библиотеки в виде функций python.\n",
    "Функции в библиотеки должны иметь интерфейс языка C, а не C++ (проблема манглинга имён).\n",
    "Сам код при этом можент быть написан на языке C++.\n",
    "\n",
    "Для интерфейса будем использовать указатели для массивов и дополнительный параметр количества элементов массива.\n",
    "Выделения памяти под указатели будет осуществлять python.\n",
    "Массивы будут использоваться как входной и выходной параметр, т.е. сами функции не должно что-либо возвращать.\n",
    "\n",
    "Файл `dft.cpp` находится в корне проекта и может быть использован внутри ipynb-файла.\n",
    "\n",
    "_Замечание_: Если файл не загружается вместе с ipynb-файлом, его можно встроить с помощью директивы `%%wfitefile`.\n",
    "Для этого создайте новую ячейку и поместите в неё содержимое файла `dft.cpp`.\n",
    "В самом верху ячейки укажите `%%writefile dft.cpp`:\n",
    "```python\n",
    "%%writefile dft.cpp\n",
    "#include <algorithm>\n",
    "#include <cmath>\n",
    "#include <complex>\n",
    "...\n",
    "```\n",
    "Таким образом на текущей файловой системе будет создан файл `dft.cpp`."
   ]
  },
  {
   "cell_type": "markdown",
   "metadata": {
    "id": "nsFmhlwH-cON"
   },
   "source": [
    "## Компиляция\n",
    "\n",
    "С помощью директивы `%%bash` можно писать инструкции для компиляции полученного файла `dft.cpp` в динамическую библиотеку `libdft.so`.\n",
    "После этих операций библиотека `libdft.so` загружается в окружение python с помощью вызова `CDLL`.\n",
    "\n",
    "_Замечание_: данный ipynb-файл может быть запущен на операционной системе Linux, где доступен компилятор `g++`, а также в colab.research.google.com и github codespace.\n",
    "Компилируем файл `dft.cpp` в динамическую библиотеку `libdft.so` в режиме полной оптимизации (`-O2`)."
   ]
  },
  {
   "cell_type": "code",
   "execution_count": 1,
   "metadata": {
    "colab": {
     "base_uri": "https://localhost:8080/"
    },
    "id": "QB2cKUmrEmR0",
    "outputId": "a32bb48e-fe03-490e-8628-5d6b23764ebd"
   },
   "outputs": [
    {
     "name": "stdout",
     "output_type": "stream",
     "text": [
      "total 52\n",
      "-rw-rw-rw- 1 vscode root     348 Apr 25 16:54 CMakeLists.txt\n",
      "-rw-rw-rw- 1 vscode root    1070 Apr 25 16:54 LICENSE\n",
      "-rw-rw-rw- 1 vscode root    1052 Apr 25 16:54 dft.cpp\n",
      "-rw-rw-rw- 1 vscode root     630 Apr 25 16:54 dft.h\n",
      "-rwxrwxrwx 1 vscode vscode 16424 Apr 25 17:06 libdft.so\n",
      "-rw-rw-rw- 1 vscode root    1026 Apr 25 16:54 main.cpp\n",
      "-rw-rw-rw- 1 vscode root    7835 Apr 25 17:06 pycxx.ipynb\n",
      "-rw-rw-rw- 1 vscode root      32 Apr 25 16:54 requirements.txt\n"
     ]
    }
   ],
   "source": [
    "%%bash\n",
    "g++ -std=c++23 -O2 -pedantic -fPIC -shared -o libdft.so dft.cpp\n",
    "ls -l ."
   ]
  },
  {
   "cell_type": "markdown",
   "metadata": {
    "id": "TP-6kec2eXnR"
   },
   "source": [
    "## Вызов C-функций\n",
    "\n",
    "Для вызова C-функций можно подготовить специальный класс, который содержит в себе управление ресурсами\n",
    "библиотеки и перенаправление вызовов интерфейса."
   ]
  },
  {
   "cell_type": "code",
   "execution_count": 2,
   "metadata": {
    "id": "IFOIwdmWE8jh"
   },
   "outputs": [],
   "source": [
    "import ctypes as ct\n",
    "import numpy as np\n",
    "from timeit import timeit\n",
    "\n",
    "class MyCxxLib:\n",
    "    complex128 = ct.POINTER(2*ct.c_double)\n",
    "\n",
    "    def __init__(self, name='./libdft.so'):\n",
    "        self.libdft = ct.CDLL(name)\n",
    "\n",
    "    def dft(self, x, out):\n",
    "        self.libdft.dft(ct.c_size_t(len(x)), x.ctypes.data_as(MyCxxLib.complex128), out.ctypes.data_as(MyCxxLib.complex128))\n",
    "\n",
    "    def __del__(self):\n",
    "        libdl = ct.CDLL(None)\n",
    "        handle = self.libdft._handle\n",
    "        del self.libdft\n",
    "        libdl.dlclose(handle)\n",
    "\n",
    "if 'mylib' in locals():\n",
    "    del mylib\n",
    "\n",
    "mylib = MyCxxLib()"
   ]
  },
  {
   "cell_type": "markdown",
   "metadata": {},
   "source": [
    "# Эксперименты\n",
    "\n",
    "Сгенерируем данные случайным образом и проведём сравнение со стандартной функией `np.fft.fft`.\n",
    "Для определения ошибки используется Евлкидова норма.\n",
    "Для вычисления времени вычисления используется модуль `timeit`, которому можно задать количество повторений.\n",
    "Полученное время затем делится на количество повторений, чтобы получить среднее время работы алгоритма.\n",
    "Такой подход позволяет устранить \"всплески\" на временной шкале, вызванные многозадачностью вычислительной машины (переключение между потоками и процессами), влиянием кешей процессора и обращениями к дискам.\n",
    "\n",
    "_Замечание_: все данные генерируются с помощью одного объекта, который был получен из фиксированного источника (seed), равного 29.\n",
    "Это гарантирует, что при любых перезапусках будут **всегда** получатся одни и те же числа (фиксирование генератора случайных чисел)."
   ]
  },
  {
   "cell_type": "code",
   "execution_count": 4,
   "metadata": {
    "colab": {
     "base_uri": "https://localhost:8080/"
    },
    "id": "1Yj710hJGKyE",
    "outputId": "6e0b50ea-b001-4d48-8bae-9826097415df"
   },
   "outputs": [
    {
     "name": "stdout",
     "output_type": "stream",
     "text": [
      "Time: 1.1001802000009776e-05 sec\n",
      "Error: 3.4075224359178426e-13\n"
     ]
    }
   ],
   "source": [
    "rng = np.random.default_rng(29)\n",
    "N = 10\n",
    "xr = rng.uniform(-100, 100, size=N)\n",
    "xi = rng.uniform(-100, 100, size=N)\n",
    "x = xr + 1j * xi\n",
    "y = np.zeros(N, dtype=np.complex128)\n",
    "\n",
    "t = timeit(lambda: mylib.dft(x, y), number=1000) / 1000\n",
    "print(\"Time:\", t, 'sec')\n",
    "\n",
    "y2 = np.fft.fft(x) / np.sqrt(N)\n",
    "print(\"Error:\", np.linalg.norm(y2 - y))"
   ]
  }
 ],
 "metadata": {
  "colab": {
   "provenance": []
  },
  "kernelspec": {
   "display_name": "Python 3",
   "language": "python",
   "name": "python3"
  },
  "language_info": {
   "codemirror_mode": {
    "name": "ipython",
    "version": 3
   },
   "file_extension": ".py",
   "mimetype": "text/x-python",
   "name": "python",
   "nbconvert_exporter": "python",
   "pygments_lexer": "ipython3",
   "version": "3.10.12"
  }
 },
 "nbformat": 4,
 "nbformat_minor": 4
}
